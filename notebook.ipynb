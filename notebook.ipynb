{
 "cells": [
  {
   "cell_type": "code",
   "execution_count": 1,
   "metadata": {},
   "outputs": [],
   "source": [
    "import pandas as pd\n",
    "pd.options.plotting.backend = \"plotly\"\n",
    "import numpy as np\n",
    "import yfinance as yf\n",
    "from sklearn.preprocessing import MinMaxScaler\n",
    "from sklearn.metrics import mean_squared_error\n",
    "from tensorflow.keras import Sequential\n",
    "from tensorflow.keras.layers import Dense, LSTM, Dropout\n",
    "import matplotlib.pyplot as plt\n",
    "import math\n",
    "import statistics as stats\n",
    "import praw\n",
    "from textblob import TextBlob\n",
    "from datetime import datetime, timedelta"
   ]
  },
  {
   "cell_type": "code",
   "execution_count": 2,
   "metadata": {},
   "outputs": [],
   "source": [
    "#authentication for praw\n",
    "my_client_id = \"-vOTMtJazmzppQ\"\n",
    "my_client_secret = \"_cXn_GBKUTHrDPGsZxjQOV9Vz-A\"\n",
    "my_user_agent = \"web:scraper.v0 (by u/skeet__)\""
   ]
  },
  {
   "cell_type": "code",
   "execution_count": 94,
   "metadata": {},
   "outputs": [],
   "source": [
    "#_____FUNCTIONS_____#\n",
    "\n",
    "def getStockInfo(stock):\n",
    "    \n",
    "    #Compute the last days of stock to fetch\n",
    "    \n",
    "    today = datetime.today();\n",
    "    #date in string form to use for fetching the data\n",
    "    date_extrac = today.strftime(\"%Y-%m-%d\")\n",
    "    #current time\n",
    "    now = datetime.now()\n",
    "    #The time when market closes\n",
    "    End_of_day = now.replace(hour=16, minute=0, second=0, microsecond=0)\n",
    "    #Checks if the market is closed or not. If yes then fetch the stock \n",
    "    #data till today. However if the market is not closed then we can fetch \n",
    "    #the data till yesterday.\n",
    "    if now > End_of_day:\n",
    "        #Increment the day because end in yf.download fetches day - 1\n",
    "        today = datetime.today()+timedelta(1)\n",
    "        date_extrac = today.strftime(\"%Y-%m-%d\")\n",
    "        \n",
    "    data =  yf.download(stock, start=\"2008-06-07\", end = date_extrac)\n",
    "    #get just adjusted close\n",
    "    close = data['Adj Close']\n",
    "    #get close, open, high, low, and volume\n",
    "    data = data[[\"Close\", \"Open\", \"High\", \"Low\", \"Volume\"]]\n",
    "    \n",
    "    \n",
    "    ##RSI (code from https://stackoverflow.com/questions/20526414/relative-strength-index-in-python-pandas)\n",
    "    #get the difference in close price from previous step\n",
    "    delta = close.diff()\n",
    "    #get rid of the first row of delta which is NaN\n",
    "    delta = delta[1:] \n",
    "    #make the positive gains (up) and negative gains (down) Series\n",
    "    up, down = delta.copy(), delta.copy()\n",
    "    up[up < 0] = 0\n",
    "    down[down > 0] = 0\n",
    "    \n",
    "    #calculate the EWMA\n",
    "    roll_up1 = up.ewm(span=20).mean()\n",
    "    roll_down1 = down.abs().ewm(span=20).mean()\n",
    "    \n",
    "    #calculate the RSI based on EWMA\n",
    "    RS1 = roll_up1 / roll_down1\n",
    "    RSI1 = 100.0 - (100.0 / (1.0 + RS1))\n",
    "    data['RSI_EMA'] = RSI1\n",
    "    \n",
    "    # Calculate the SMA\n",
    "    roll_up2 = up.rolling(20).mean()\n",
    "    roll_down2 = down.abs().rolling(20).mean()\n",
    "\n",
    "    # Calculate the RSI based on SMA\n",
    "    RS2 = roll_up2 / roll_down2\n",
    "    RSI2 = 100.0 - (100.0 / (1.0 + RS2))\n",
    "    data['RSI_SMA'] = RSI2\n",
    "    \n",
    "    #calculate the simple moving average\n",
    "    #20 days to represent the 22 trading days in a month\n",
    "    data['MA20d'] = data['Close'].rolling(20).mean()\n",
    "    data['MA50d'] = data['Close'].rolling(50).mean()\n",
    "    \n",
    "    #exponential moving average\n",
    "    data['EMA'] = data['Close'].ewm(span=20, adjust=False).mean()\n",
    "    \n",
    "    #calculate upper and lower bollinger bands\n",
    "    data['20dSTD'] = data['Close'].rolling(20).std()\n",
    "    \n",
    "    data['upperBand'] = data['MA20d'] + (data['20dSTD'] * 2)\n",
    "    data['lowerBand'] = data['MA20d'] - (data['20dSTD'] * 2)\n",
    "    \n",
    "    #Drop the columns with NAN\n",
    "    data.dropna(subset=None, inplace=True)\n",
    "    return data\n",
    "\n",
    "def getSentiment(companyName):\n",
    "    #load news headlines\n",
    "    df = pd.read_csv ('RedditNews.csv')\n",
    "    #get sentiment for each headline\n",
    "    df['News'] = df['News'].apply(lambda News: TextBlob(News).sentiment)\n",
    "    #remove headlines that are completely neutral\n",
    "    df = df[df['News'] != (0.0, 0.0)]\n",
    "    #split the sentiment tuple (polarity, subjectivity) into two columns\n",
    "    df_sentiment = pd.DataFrame(data=df['Date'])\n",
    "    df_sentiment[['polarity', 'subjectivity']] = pd.DataFrame(df['News'].tolist(), index=df.index)\n",
    "    #make a reddit instance to get news\n",
    "    reddit = praw.Reddit(client_id=my_client_id, client_secret=my_client_secret, user_agent=my_user_agent)\n",
    "    #subreddit to search - all\n",
    "    subreddit = reddit.subreddit(\"all\")\n",
    "    #search \"all\" for posts from all time containing the company name\n",
    "    search_result = subreddit.search(companyName, 'top', time_filter='all')\n",
    "    #list to hold sentiments\n",
    "    sentiments = []\n",
    "    #loop through the search results\n",
    "    for submission in search_result:\n",
    "        if not submission.stickied:\n",
    "            #get the sentiment for the post\n",
    "            sentiments.append((datetime.utcfromtimestamp(submission.created_utc).strftime('%Y-%m-%d') ,\n",
    "                              TextBlob(submission.title).sentiment))\n",
    "    company_sentiments = pd.DataFrame(sentiments)\n",
    "    company_filtered = company_sentiments[company_sentiments[1] != (0.0, 0.0)]\n",
    "    #split the sentiment tuple (polarity, subjectivity) into two columns\n",
    "    company_df = pd.DataFrame(data=company_sentiments[0])\n",
    "    company_df[['polarity', 'subjectivity']] = pd.DataFrame(company_filtered[1].tolist(), index=company_filtered.index)\n",
    "    old_sentiments = pd.concat([df_sentiment, company_df])\n",
    "    #get the mean sentiment for each day\n",
    "    dfm = old_sentiments.groupby('Date').mean()\n",
    "    #get the index of the dataframe into datetime format\n",
    "    dfm.index = pd.to_datetime(dfm.index)\n",
    "    #this will hold a list of sentiments for today's news\n",
    "    sentiment_today = []\n",
    "    #subreddit to search - all\n",
    "    subreddit = reddit.subreddit(\"all\")\n",
    "    #search \"all\" for posts containin company name\n",
    "    search_result = subreddit.search(companyName, 'relevance', time_filter='day')\n",
    "    #loop through the search results\n",
    "    for submission in search_result:\n",
    "        if not submission.stickied:\n",
    "            #get the sentiment for the post\n",
    "            sentiment_today.append(TextBlob(submission.title).sentiment)\n",
    "    #remove headlines that are completely neutral        \n",
    "    filtered_today = np.array([sentiment for sentiment in sentiment_today if sentiment != (0,0)])\n",
    "    #mean sentiment for today\n",
    "    mean_today = np.mean(filtered_today, axis=0)\n",
    "    #put it in a dataframe\n",
    "    today_df = pd.DataFrame({'polarity': mean_today[0], 'subjectivity': mean_today[1]}, index = [datetime.now().date()])\n",
    "    #sentiments from dataset + sentiment today\n",
    "    sentiments = pd.concat([dfm, today_df])\n",
    "    #make an index date range for the beginning of the headlines dataset to today\n",
    "    idx = pd.date_range('06-08-2008', datetime.now().date())\n",
    "    #fill missing dates with 0\n",
    "    sentiments = sentiments.reindex(idx, fill_value=0)\n",
    "    return sentiments\n",
    "    \n",
    "    \n",
    "def splitDataSet(dataset):\n",
    "    #train/test split will be 80/20\n",
    "    training_data_len = math.ceil(len(dataset)*.75)\n",
    "    \n",
    "    #Create train dataset\n",
    "    train_data = dataset[0:training_data_len]\n",
    "    #create test dataset\n",
    "    test_data = dataset[training_data_len-60:]\n",
    "    \n",
    "    #Scale the data\n",
    "    train_scaler = MinMaxScaler(feature_range=(0,1))\n",
    "    test_scaler = MinMaxScaler()\n",
    "    scaled_train = train_scaler.fit_transform(train_data)\n",
    "    scaled_test = test_scaler.fit_transform(test_data)\n",
    "     \n",
    "    X_train = []\n",
    "    y_train = []\n",
    "    for i in range(60, len(train_data)):\n",
    "        X_train.append(scaled_train[i-60:i])\n",
    "        y_train.append(scaled_train[i, 0])\n",
    "    X_train, y_train = np.array(X_train), np.array(y_train)\n",
    "\n",
    "    X_test = []\n",
    "    y_test = []\n",
    "    for i in range(60, test_data.shape[0]):\n",
    "        X_test.append(scaled_test[i-60:i])\n",
    "        y_test.append(scaled_test[i, 0])\n",
    "    X_test, y_test = np.array(X_test), np.array(y_test)\n",
    "    \n",
    "    return [X_test, y_test, X_train, y_train, test_scaler]\n",
    "\n",
    "#LSTM model\n",
    "def makeModel(X_train):\n",
    "    model = Sequential()\n",
    "\n",
    "    model.add(LSTM(units = 40, activation = 'linear',return_sequences = True, input_shape = (X_train.shape[1], X_train.shape[2])))\n",
    "    model.add(Dropout(0.2))\n",
    "    \n",
    "    model.add(LSTM(units = 40, activation = 'linear',return_sequences = True))\n",
    "    model.add(Dropout(0.2))\n",
    "    \n",
    "\n",
    "    model.add(LSTM(units = 64, activation = 'linear'))\n",
    "    model.add(Dropout(0.2))\n",
    "    \n",
    "\n",
    "    model.add(Dense(10))\n",
    "    model.add(Dense(1))\n",
    "    \n",
    "    \n",
    "    #compile the model\n",
    "    model.compile(optimizer='adam', loss = 'mean_squared_error')\n",
    "    return model\n",
    "\n",
    "def getyhat(dataset, test_scaler):\n",
    "        \n",
    "    test_index = dataset.iloc[-y_test.shape[0]:].index\n",
    "    test_index = test_index+timedelta(1)\n",
    "    y_test_reshaped = np.reshape(y_test,(y_test.shape[0], 1))\n",
    "    test_unscaler = MinMaxScaler()\n",
    "    test_unscaler.min_, test_unscaler.scale_ = test_scaler.min_[0], test_scaler.scale_[0]\n",
    "    y_test_unscaled = test_unscaler.inverse_transform(y_test_reshaped)\n",
    "    y_test_df = pd.DataFrame(data=y_test_unscaled, columns=['Close']).set_index(test_index)\n",
    "    \n",
    "    yhat = model.predict(X_test)\n",
    "    yhat_unscaled = test_unscaler.inverse_transform(yhat)\n",
    "    yhat_df = pd.DataFrame(data=yhat_unscaled, columns=['Close']).set_index(test_index)\n",
    "    return [yhat ,yhat_df, y_test_df]\n",
    "\n",
    "def plotLoss(hist):\n",
    "    # plot loss\n",
    "    plt.plot(hist.history['loss'], label='train')\n",
    "    plt.plot(hist.history['val_loss'], label='test')\n",
    "    plt.legend()\n",
    "    plt.show()\n",
    "\n",
    "def graphResults(yhat_df, y_test_df, stock_name):\n",
    "    # Visualising the results\n",
    "    plt.figure(figsize=(14,5))\n",
    "    plt.plot(y_test_df, color = 'red', label = \"Real {stock} stock price\".format(stock = stock_name))\n",
    "    plt.plot(yhat_df, color = 'blue', label = \"Predicted {stock} stock Price\".format(stock = stock_name))\n",
    "    plt.title(\"{stock} Stock Prediction\".format(stock = stock_name))\n",
    "    plt.legend()\n",
    "    plt.show()\n"
   ]
  },
  {
   "cell_type": "code",
   "execution_count": 89,
   "metadata": {},
   "outputs": [
    {
     "name": "stdout",
     "output_type": "stream",
     "text": [
      "Enter the stock symbol/ticker you'd like to predict: aal\n",
      "[*********************100%***********************]  1 of 1 completed\n",
      "would you like to include news sentiments in the data?\n",
      "please enter \"y\" or \"n\" (if sentiments are not included, prediction will be made using price data only)\n",
      "n\n"
     ]
    }
   ],
   "source": [
    "#_____MAIN_START_____#\n",
    "#ask the user for a ticker symbol\n",
    "while True:\n",
    "    ticker = input(\"Enter the stock symbol/ticker you'd like to predict: \").upper()\n",
    "    if ticker == \"\":\n",
    "        ticker = \"AAPL\"\n",
    "    try:\n",
    "        data = getStockInfo(ticker)\n",
    "    except:\n",
    "        print(\"No data found, symbol may be delisted\")\n",
    "        continue\n",
    "    else:\n",
    "        break\n",
    "\n",
    "#ask the user if they would like to include news sentiments in the prediction\n",
    "print('would you like to include news sentiments in the data?\\nplease enter \"y\" or \"n\" (if sentiments are not included, prediction will be made using price data only)')\n",
    "response = input()\n",
    "if (response == \"y\"):\n",
    "    #get the sentiments\n",
    "    print(\"getting sentiments...\")\n",
    "    sentiments = getSentiment(ticker)\n",
    "    #put the sentiments into data\n",
    "    full = pd.concat([data, sentiments], axis=1, sort=False)\n",
    "    #drop rows with NaN\n",
    "    full = full.dropna(axis=0)\n",
    "else:\n",
    "    full = data\n",
    "\n",
    "#put the dataset into a numpy array\n",
    "dataset = full.to_numpy()\n",
    "\n",
    "#set up data sets\n",
    "X_test, y_test, X_train, y_train, test_scaler = splitDataSet(dataset)"
   ]
  },
  {
   "cell_type": "code",
   "execution_count": 90,
   "metadata": {},
   "outputs": [
    {
     "name": "stdout",
     "output_type": "stream",
     "text": [
      "Model: \"sequential_6\"\n",
      "_________________________________________________________________\n",
      "Layer (type)                 Output Shape              Param #   \n",
      "=================================================================\n",
      "lstm_9 (LSTM)                (None, 60, 40)            8640      \n",
      "_________________________________________________________________\n",
      "dropout_9 (Dropout)          (None, 60, 40)            0         \n",
      "_________________________________________________________________\n",
      "lstm_10 (LSTM)               (None, 60, 40)            12960     \n",
      "_________________________________________________________________\n",
      "dropout_10 (Dropout)         (None, 60, 40)            0         \n",
      "_________________________________________________________________\n",
      "lstm_11 (LSTM)               (None, 64)                26880     \n",
      "_________________________________________________________________\n",
      "dropout_11 (Dropout)         (None, 64)                0         \n",
      "_________________________________________________________________\n",
      "dense_6 (Dense)              (None, 10)                650       \n",
      "_________________________________________________________________\n",
      "dense_7 (Dense)              (None, 1)                 11        \n",
      "=================================================================\n",
      "Total params: 49,141\n",
      "Trainable params: 49,141\n",
      "Non-trainable params: 0\n",
      "_________________________________________________________________\n"
     ]
    }
   ],
   "source": [
    "model = makeModel(X_train)\n",
    "model.summary()"
   ]
  },
  {
   "cell_type": "code",
   "execution_count": 91,
   "metadata": {},
   "outputs": [
    {
     "name": "stdout",
     "output_type": "stream",
     "text": [
      "training model...\n",
      "Epoch 1/3\n",
      "40/40 [==============================] - 3s 82ms/step - loss: 0.0485 - val_loss: 0.0075\n",
      "Epoch 2/3\n",
      "40/40 [==============================] - 3s 71ms/step - loss: 0.0074 - val_loss: 0.0058\n",
      "Epoch 3/3\n",
      "40/40 [==============================] - 3s 71ms/step - loss: 0.0058 - val_loss: 0.0049\n"
     ]
    }
   ],
   "source": [
    "print(\"training model...\")\n",
    "hist = model.fit(X_train, y_train, epochs=3, batch_size=60, validation_data = (X_test, y_test))"
   ]
  },
  {
   "cell_type": "code",
   "execution_count": 92,
   "metadata": {},
   "outputs": [
    {
     "name": "stdout",
     "output_type": "stream",
     "text": [
      "loss plot\n"
     ]
    },
    {
     "data": {
      "image/png": "[encoded data removed]",
      "text/plain": [
       "<Figure size 432x288 with 1 Axes>"
      ]
     },
     "metadata": {
      "needs_background": "light"
     },
     "output_type": "display_data"
    }
   ],
   "source": [
    "print(\"loss plot\")\n",
    "plotLoss(hist)"
   ]
  },
  {
   "cell_type": "code",
   "execution_count": 95,
   "metadata": {},
   "outputs": [
    {
     "name": "stdout",
     "output_type": "stream",
     "text": [
      "making prediction...\n",
      "                Close\n",
      "Date                 \n",
      "2021-05-15  22.301413\n"
     ]
    }
   ],
   "source": [
    "#make prediction\n",
    "print(\"making prediction...\")\n",
    "yhat, yhat_df, y_test_df = getyhat(full, test_scaler)\n",
    "\n",
    "#Show the predicted Close price for next day\n",
    "print(yhat_df.tail(1))"
   ]
  },
  {
   "cell_type": "code",
   "execution_count": 96,
   "metadata": {},
   "outputs": [
    {
     "data": {
      "image/png": "[encoded data removed]",
      "text/plain": [
       "<Figure size 1008x360 with 1 Axes>"
      ]
     },
     "metadata": {
      "needs_background": "light"
     },
     "output_type": "display_data"
    }
   ],
   "source": [
    "#plot results\n",
    "graphResults(yhat_df, y_test_df, ticker)"
   ]
  },
  {
   "cell_type": "code",
   "execution_count": 97,
   "metadata": {},
   "outputs": [
    {
     "name": "stdout",
     "output_type": "stream",
     "text": [
      "Test RMSE: 3.449\n",
      "NRMSE = 7.27%\n"
     ]
    }
   ],
   "source": [
    "#accuracy metric\n",
    "rmse = math.sqrt(mean_squared_error(y_test_df, yhat_df))\n",
    "print('Test RMSE: %.3f' % rmse)\n",
    "NRMSE = (rmse/(np.max(y_test_df)-np.min(y_test_df)))*100\n",
    "print('NRMSE = %.2f%%' % NRMSE)"
   ]
  }
 ],
 "metadata": {
  "kernelspec": {
   "display_name": "Python 3",
   "language": "python",
   "name": "python3"
  },
  "language_info": {
   "codemirror_mode": {
    "name": "ipython",
    "version": 3
   },
   "file_extension": ".py",
   "mimetype": "text/x-python",
   "name": "python",
   "nbconvert_exporter": "python",
   "pygments_lexer": "ipython3",
   "version": "3.6.9"
  }
 },
 "nbformat": 4,
 "nbformat_minor": 4
}
